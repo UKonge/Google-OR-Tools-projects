{
 "cells": [
  {
   "cell_type": "markdown",
   "metadata": {},
   "source": [
    "# TSP"
   ]
  },
  {
   "cell_type": "code",
   "execution_count": 53,
   "metadata": {},
   "outputs": [],
   "source": [
    "import numpy as np\n",
    "from ortools.constraint_solver import pywrapcp\n",
    "from ortools.constraint_solver import routing_enums_pb2\n",
    "np.random.seed(0)"
   ]
  },
  {
   "cell_type": "code",
   "execution_count": 47,
   "metadata": {},
   "outputs": [],
   "source": [
    "def comp_dist(p):\n",
    "    ans = []\n",
    "    for i in range(len(p)):\n",
    "        l = []\n",
    "        for j in range(len(p)):\n",
    "            d = ((p[i][0]-p[j][0])**2+(p[i][1]-p[j][1])**2)**0.5\n",
    "            l.append(int(np.round(d,3)*1000))\n",
    "        ans.append(l)\n",
    "    return ans\n",
    "\n",
    "def create_data_model(ncities=6,nvehicles=1,l=0,h=10,d=0,seed=None):\n",
    "    if seed != None:\n",
    "        np.random.seed(seed)\n",
    "    ptsx = np.random.uniform(size=(ncities,),low=l,high=h)\n",
    "    ptsy = np.random.uniform(size=(ncities,),low=l,high=h)\n",
    "    data = {}\n",
    "    data['coords'] = [x for x in zip(ptsx,ptsy)]\n",
    "    data['distance_matrix'] = comp_dist(data['coords'])\n",
    "    data['vehicles'] = nvehicles\n",
    "    data['depot'] = d\n",
    "    return data"
   ]
  },
  {
   "cell_type": "code",
   "execution_count": 42,
   "metadata": {},
   "outputs": [],
   "source": [
    "data = create_data_model()"
   ]
  },
  {
   "cell_type": "code",
   "execution_count": 43,
   "metadata": {},
   "outputs": [
    {
     "name": "stdout",
     "output_type": "stream",
     "text": [
      "[(9.883738380592263, 4.663107728563062), (1.0204481074802807, 2.4442559200160274), (2.088767560948347, 1.5896958364551972), (1.6130951788499626, 1.1037514116430513), (6.531083254653984, 6.563295894652734), (2.532916025397821, 1.381829513486138)]\n"
     ]
    }
   ],
   "source": [
    "print(data['coords'])"
   ]
  },
  {
   "cell_type": "code",
   "execution_count": 44,
   "metadata": {},
   "outputs": [
    {
     "name": "stdout",
     "output_type": "stream",
     "text": [
      "[[0, 9137, 8379, 9004, 3854, 8050], [9137, 0, 1368, 1466, 6880, 1848], [8379, 1368, 0, 680, 6669, 490], [9004, 1466, 680, 0, 7348, 961], [3854, 6880, 6669, 7348, 0, 6545], [8050, 1848, 490, 961, 6545, 0]]\n"
     ]
    }
   ],
   "source": [
    "print(data['distance_matrix'])"
   ]
  },
  {
   "cell_type": "code",
   "execution_count": 48,
   "metadata": {},
   "outputs": [],
   "source": [
    "data = create_data_model(seed=0)\n",
    "mgr = pywrapcp.RoutingIndexManager(len(data['distance_matrix']),data['vehicles'],data['depot'])\n",
    "model = pywrapcp.RoutingModel(mgr)"
   ]
  },
  {
   "cell_type": "code",
   "execution_count": 49,
   "metadata": {},
   "outputs": [],
   "source": [
    "def dist_callback(f,t):\n",
    "    fn = mgr.IndexToNode(f)\n",
    "    tn = mgr.IndexToNode(t)\n",
    "    return data['distance_matrix'][fn][tn]\n",
    "\n",
    "transit_callback = model.RegisterTransitCallback(dist_callback)"
   ]
  },
  {
   "cell_type": "code",
   "execution_count": 51,
   "metadata": {},
   "outputs": [],
   "source": [
    "model.SetArcCostEvaluatorOfAllVehicles(transit_callback)"
   ]
  },
  {
   "cell_type": "code",
   "execution_count": 54,
   "metadata": {},
   "outputs": [],
   "source": [
    "search_parameters = pywrapcp.DefaultRoutingSearchParameters()\n",
    "search_parameters.first_solution_strategy = (\n",
    "    routing_enums_pb2.FirstSolutionStrategy.PATH_CHEAPEST_ARC)"
   ]
  },
  {
   "cell_type": "code",
   "execution_count": 55,
   "metadata": {},
   "outputs": [],
   "source": [
    "def print_solution(manager, routing, solution):\n",
    "    \"\"\"Prints solution on console.\"\"\"\n",
    "    print('Objective: {} miles'.format(solution.ObjectiveValue()))\n",
    "    index = routing.Start(0)\n",
    "    plan_output = 'Route for vehicle 0:\\n'\n",
    "    route_distance = 0\n",
    "    while not routing.IsEnd(index):\n",
    "        plan_output += ' {} ->'.format(manager.IndexToNode(index))\n",
    "        previous_index = index\n",
    "        index = solution.Value(routing.NextVar(index))\n",
    "        route_distance += routing.GetArcCostForVehicle(previous_index, index, 0)\n",
    "    plan_output += ' {}\\n'.format(manager.IndexToNode(index))\n",
    "    print(plan_output)\n",
    "    plan_output += 'Route distance: {}miles\\n'.format(route_distance)"
   ]
  },
  {
   "cell_type": "code",
   "execution_count": 59,
   "metadata": {},
   "outputs": [
    {
     "name": "stdout",
     "output_type": "stream",
     "text": [
      "Objective: 13581 miles\n",
      "Route for vehicle 0:\n",
      " 0 -> 3 -> 5 -> 1 -> 2 -> 4 -> 0\n",
      "\n"
     ]
    }
   ],
   "source": [
    "solution = model.SolveWithParameters(search_parameters)\n",
    "if solution:\n",
    "    print_solution(mgr, model, solution)"
   ]
  },
  {
   "cell_type": "code",
   "execution_count": null,
   "metadata": {},
   "outputs": [],
   "source": []
  }
 ],
 "metadata": {
  "kernelspec": {
   "display_name": "Python 3",
   "language": "python",
   "name": "python3"
  },
  "language_info": {
   "codemirror_mode": {
    "name": "ipython",
    "version": 3
   },
   "file_extension": ".py",
   "mimetype": "text/x-python",
   "name": "python",
   "nbconvert_exporter": "python",
   "pygments_lexer": "ipython3",
   "version": "3.8.5"
  }
 },
 "nbformat": 4,
 "nbformat_minor": 4
}
